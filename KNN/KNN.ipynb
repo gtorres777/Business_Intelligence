{
 "cells": [
  {
   "cell_type": "markdown",
   "metadata": {},
   "source": [
    "## Importando las librerias necesarias"
   ]
  },
  {
   "cell_type": "code",
   "execution_count": 102,
   "metadata": {},
   "outputs": [],
   "source": [
    "import numpy as np\n",
    "import pandas as pd\n",
    "\n",
    "from sklearn.model_selection import train_test_split\n",
    "from sklearn.preprocessing import StandardScaler\n",
    "from sklearn.neighbors import KNeighborsClassifier\n",
    "from sklearn.metrics import confusion_matrix, f1_score, accuracy_score\n"
   ]
  },
  {
   "cell_type": "markdown",
   "metadata": {},
   "source": [
    "## Cargando los datos"
   ]
  },
  {
   "cell_type": "code",
   "execution_count": 103,
   "metadata": {
    "scrolled": true
   },
   "outputs": [
    {
     "data": {
      "text/html": [
       "<div>\n",
       "<style scoped>\n",
       "    .dataframe tbody tr th:only-of-type {\n",
       "        vertical-align: middle;\n",
       "    }\n",
       "\n",
       "    .dataframe tbody tr th {\n",
       "        vertical-align: top;\n",
       "    }\n",
       "\n",
       "    .dataframe thead th {\n",
       "        text-align: right;\n",
       "    }\n",
       "</style>\n",
       "<table border=\"1\" class=\"dataframe\">\n",
       "  <thead>\n",
       "    <tr style=\"text-align: right;\">\n",
       "      <th></th>\n",
       "      <th>Gastos en Marketing</th>\n",
       "      <th>Gastos en planilla</th>\n",
       "      <th>Gastos en Alquiler</th>\n",
       "      <th>Ciudad</th>\n",
       "      <th>Ingresos por venta de productos</th>\n",
       "      <th>Outcome</th>\n",
       "    </tr>\n",
       "  </thead>\n",
       "  <tbody>\n",
       "    <tr>\n",
       "      <th>0</th>\n",
       "      <td>52</td>\n",
       "      <td>2320</td>\n",
       "      <td>560</td>\n",
       "      <td>Nashville</td>\n",
       "      <td>3225</td>\n",
       "      <td>0</td>\n",
       "    </tr>\n",
       "    <tr>\n",
       "      <th>1</th>\n",
       "      <td>110</td>\n",
       "      <td>2120</td>\n",
       "      <td>790</td>\n",
       "      <td>Indiana</td>\n",
       "      <td>2130</td>\n",
       "      <td>1</td>\n",
       "    </tr>\n",
       "    <tr>\n",
       "      <th>2</th>\n",
       "      <td>324</td>\n",
       "      <td>3145</td>\n",
       "      <td>1230</td>\n",
       "      <td>Los Angeles</td>\n",
       "      <td>3540</td>\n",
       "      <td>1</td>\n",
       "    </tr>\n",
       "    <tr>\n",
       "      <th>3</th>\n",
       "      <td>233</td>\n",
       "      <td>2540</td>\n",
       "      <td>1020</td>\n",
       "      <td>Indiana</td>\n",
       "      <td>3675</td>\n",
       "      <td>0</td>\n",
       "    </tr>\n",
       "    <tr>\n",
       "      <th>4</th>\n",
       "      <td>130</td>\n",
       "      <td>1829</td>\n",
       "      <td>525</td>\n",
       "      <td>Oklahoma</td>\n",
       "      <td>2130</td>\n",
       "      <td>1</td>\n",
       "    </tr>\n",
       "  </tbody>\n",
       "</table>\n",
       "</div>"
      ],
      "text/plain": [
       "   Gastos en Marketing  Gastos en planilla  Gastos en Alquiler       Ciudad  \\\n",
       "0                   52                2320                 560    Nashville   \n",
       "1                  110                2120                 790      Indiana   \n",
       "2                  324                3145                1230  Los Angeles   \n",
       "3                  233                2540                1020      Indiana   \n",
       "4                  130                1829                 525     Oklahoma   \n",
       "\n",
       "   Ingresos por venta de productos  Outcome  \n",
       "0                             3225        0  \n",
       "1                             2130        1  \n",
       "2                             3540        1  \n",
       "3                             3675        0  \n",
       "4                             2130        1  "
      ]
     },
     "execution_count": 103,
     "metadata": {},
     "output_type": "execute_result"
    }
   ],
   "source": [
    "data = pd.read_csv('Dataset Lab7 - Hoja 1.csv')\n",
    "data.head()"
   ]
  },
  {
   "cell_type": "code",
   "execution_count": 104,
   "metadata": {
    "scrolled": false
   },
   "outputs": [
    {
     "data": {
      "text/html": [
       "<div>\n",
       "<style scoped>\n",
       "    .dataframe tbody tr th:only-of-type {\n",
       "        vertical-align: middle;\n",
       "    }\n",
       "\n",
       "    .dataframe tbody tr th {\n",
       "        vertical-align: top;\n",
       "    }\n",
       "\n",
       "    .dataframe thead th {\n",
       "        text-align: right;\n",
       "    }\n",
       "</style>\n",
       "<table border=\"1\" class=\"dataframe\">\n",
       "  <thead>\n",
       "    <tr style=\"text-align: right;\">\n",
       "      <th></th>\n",
       "      <th>Gastos en Marketing</th>\n",
       "      <th>Gastos en planilla</th>\n",
       "      <th>Gastos en Alquiler</th>\n",
       "      <th>Ciudad</th>\n",
       "      <th>Ingresos por venta de productos</th>\n",
       "      <th>Outcome</th>\n",
       "    </tr>\n",
       "  </thead>\n",
       "  <tbody>\n",
       "    <tr>\n",
       "      <th>25</th>\n",
       "      <td>272</td>\n",
       "      <td>2840</td>\n",
       "      <td>630</td>\n",
       "      <td>Oklahoma</td>\n",
       "      <td>3972</td>\n",
       "      <td>0</td>\n",
       "    </tr>\n",
       "    <tr>\n",
       "      <th>26</th>\n",
       "      <td>314</td>\n",
       "      <td>3378</td>\n",
       "      <td>548</td>\n",
       "      <td>Indiana</td>\n",
       "      <td>4454</td>\n",
       "      <td>0</td>\n",
       "    </tr>\n",
       "    <tr>\n",
       "      <th>27</th>\n",
       "      <td>254</td>\n",
       "      <td>3160</td>\n",
       "      <td>789</td>\n",
       "      <td>Los Angeles</td>\n",
       "      <td>2948</td>\n",
       "      <td>1</td>\n",
       "    </tr>\n",
       "    <tr>\n",
       "      <th>28</th>\n",
       "      <td>156</td>\n",
       "      <td>3132</td>\n",
       "      <td>680</td>\n",
       "      <td>Nashville</td>\n",
       "      <td>2872</td>\n",
       "      <td>1</td>\n",
       "    </tr>\n",
       "    <tr>\n",
       "      <th>29</th>\n",
       "      <td>139</td>\n",
       "      <td>2739</td>\n",
       "      <td>646</td>\n",
       "      <td>California</td>\n",
       "      <td>3135</td>\n",
       "      <td>1</td>\n",
       "    </tr>\n",
       "  </tbody>\n",
       "</table>\n",
       "</div>"
      ],
      "text/plain": [
       "    Gastos en Marketing  Gastos en planilla  Gastos en Alquiler       Ciudad  \\\n",
       "25                  272                2840                 630     Oklahoma   \n",
       "26                  314                3378                 548      Indiana   \n",
       "27                  254                3160                 789  Los Angeles   \n",
       "28                  156                3132                 680    Nashville   \n",
       "29                  139                2739                 646   California   \n",
       "\n",
       "    Ingresos por venta de productos  Outcome  \n",
       "25                             3972        0  \n",
       "26                             4454        0  \n",
       "27                             2948        1  \n",
       "28                             2872        1  \n",
       "29                             3135        1  "
      ]
     },
     "execution_count": 104,
     "metadata": {},
     "output_type": "execute_result"
    }
   ],
   "source": [
    "data.tail()"
   ]
  },
  {
   "cell_type": "markdown",
   "metadata": {},
   "source": [
    "### Transformando los datos de ciudades en numeros"
   ]
  },
  {
   "cell_type": "code",
   "execution_count": 105,
   "metadata": {},
   "outputs": [
    {
     "data": {
      "text/html": [
       "<div>\n",
       "<style scoped>\n",
       "    .dataframe tbody tr th:only-of-type {\n",
       "        vertical-align: middle;\n",
       "    }\n",
       "\n",
       "    .dataframe tbody tr th {\n",
       "        vertical-align: top;\n",
       "    }\n",
       "\n",
       "    .dataframe thead th {\n",
       "        text-align: right;\n",
       "    }\n",
       "</style>\n",
       "<table border=\"1\" class=\"dataframe\">\n",
       "  <thead>\n",
       "    <tr style=\"text-align: right;\">\n",
       "      <th></th>\n",
       "      <th>Gastos en Marketing</th>\n",
       "      <th>Gastos en planilla</th>\n",
       "      <th>Gastos en Alquiler</th>\n",
       "      <th>Ciudad</th>\n",
       "      <th>Ingresos por venta de productos</th>\n",
       "      <th>Outcome</th>\n",
       "    </tr>\n",
       "  </thead>\n",
       "  <tbody>\n",
       "    <tr>\n",
       "      <th>0</th>\n",
       "      <td>52</td>\n",
       "      <td>2320</td>\n",
       "      <td>560</td>\n",
       "      <td>3</td>\n",
       "      <td>3225</td>\n",
       "      <td>0</td>\n",
       "    </tr>\n",
       "    <tr>\n",
       "      <th>1</th>\n",
       "      <td>110</td>\n",
       "      <td>2120</td>\n",
       "      <td>790</td>\n",
       "      <td>2</td>\n",
       "      <td>2130</td>\n",
       "      <td>1</td>\n",
       "    </tr>\n",
       "    <tr>\n",
       "      <th>2</th>\n",
       "      <td>324</td>\n",
       "      <td>3145</td>\n",
       "      <td>1230</td>\n",
       "      <td>5</td>\n",
       "      <td>3540</td>\n",
       "      <td>1</td>\n",
       "    </tr>\n",
       "    <tr>\n",
       "      <th>3</th>\n",
       "      <td>233</td>\n",
       "      <td>2540</td>\n",
       "      <td>1020</td>\n",
       "      <td>2</td>\n",
       "      <td>3675</td>\n",
       "      <td>0</td>\n",
       "    </tr>\n",
       "    <tr>\n",
       "      <th>4</th>\n",
       "      <td>130</td>\n",
       "      <td>1829</td>\n",
       "      <td>525</td>\n",
       "      <td>4</td>\n",
       "      <td>2130</td>\n",
       "      <td>1</td>\n",
       "    </tr>\n",
       "  </tbody>\n",
       "</table>\n",
       "</div>"
      ],
      "text/plain": [
       "   Gastos en Marketing  Gastos en planilla  Gastos en Alquiler  Ciudad  \\\n",
       "0                   52                2320                 560       3   \n",
       "1                  110                2120                 790       2   \n",
       "2                  324                3145                1230       5   \n",
       "3                  233                2540                1020       2   \n",
       "4                  130                1829                 525       4   \n",
       "\n",
       "   Ingresos por venta de productos  Outcome  \n",
       "0                             3225        0  \n",
       "1                             2130        1  \n",
       "2                             3540        1  \n",
       "3                             3675        0  \n",
       "4                             2130        1  "
      ]
     },
     "execution_count": 105,
     "metadata": {},
     "output_type": "execute_result"
    }
   ],
   "source": [
    "data['Ciudad'] = data['Ciudad'].map({'California': 1, 'Indiana':2, \n",
    "                                     'Nashville':3, 'Oklahoma':4, \n",
    "                                     'Los Angeles':5})\n",
    "\n",
    "data.head()"
   ]
  },
  {
   "cell_type": "markdown",
   "metadata": {},
   "source": [
    "## Extrayendo las variables"
   ]
  },
  {
   "cell_type": "code",
   "execution_count": 106,
   "metadata": {},
   "outputs": [
    {
     "data": {
      "text/html": [
       "<div>\n",
       "<style scoped>\n",
       "    .dataframe tbody tr th:only-of-type {\n",
       "        vertical-align: middle;\n",
       "    }\n",
       "\n",
       "    .dataframe tbody tr th {\n",
       "        vertical-align: top;\n",
       "    }\n",
       "\n",
       "    .dataframe thead th {\n",
       "        text-align: right;\n",
       "    }\n",
       "</style>\n",
       "<table border=\"1\" class=\"dataframe\">\n",
       "  <thead>\n",
       "    <tr style=\"text-align: right;\">\n",
       "      <th></th>\n",
       "      <th>Gastos en Marketing</th>\n",
       "      <th>Gastos en planilla</th>\n",
       "      <th>Gastos en Alquiler</th>\n",
       "      <th>Ciudad</th>\n",
       "      <th>Ingresos por venta de productos</th>\n",
       "    </tr>\n",
       "  </thead>\n",
       "  <tbody>\n",
       "    <tr>\n",
       "      <th>0</th>\n",
       "      <td>52</td>\n",
       "      <td>2320</td>\n",
       "      <td>560</td>\n",
       "      <td>3</td>\n",
       "      <td>3225</td>\n",
       "    </tr>\n",
       "    <tr>\n",
       "      <th>1</th>\n",
       "      <td>110</td>\n",
       "      <td>2120</td>\n",
       "      <td>790</td>\n",
       "      <td>2</td>\n",
       "      <td>2130</td>\n",
       "    </tr>\n",
       "    <tr>\n",
       "      <th>2</th>\n",
       "      <td>324</td>\n",
       "      <td>3145</td>\n",
       "      <td>1230</td>\n",
       "      <td>5</td>\n",
       "      <td>3540</td>\n",
       "    </tr>\n",
       "    <tr>\n",
       "      <th>3</th>\n",
       "      <td>233</td>\n",
       "      <td>2540</td>\n",
       "      <td>1020</td>\n",
       "      <td>2</td>\n",
       "      <td>3675</td>\n",
       "    </tr>\n",
       "    <tr>\n",
       "      <th>4</th>\n",
       "      <td>130</td>\n",
       "      <td>1829</td>\n",
       "      <td>525</td>\n",
       "      <td>4</td>\n",
       "      <td>2130</td>\n",
       "    </tr>\n",
       "  </tbody>\n",
       "</table>\n",
       "</div>"
      ],
      "text/plain": [
       "   Gastos en Marketing  Gastos en planilla  Gastos en Alquiler  Ciudad  \\\n",
       "0                   52                2320                 560       3   \n",
       "1                  110                2120                 790       2   \n",
       "2                  324                3145                1230       5   \n",
       "3                  233                2540                1020       2   \n",
       "4                  130                1829                 525       4   \n",
       "\n",
       "   Ingresos por venta de productos  \n",
       "0                             3225  \n",
       "1                             2130  \n",
       "2                             3540  \n",
       "3                             3675  \n",
       "4                             2130  "
      ]
     },
     "execution_count": 106,
     "metadata": {},
     "output_type": "execute_result"
    }
   ],
   "source": [
    "x = data.iloc[:, 0:5]\n",
    "x.head()"
   ]
  },
  {
   "cell_type": "code",
   "execution_count": 107,
   "metadata": {
    "scrolled": true
   },
   "outputs": [
    {
     "data": {
      "text/plain": [
       "0    0\n",
       "1    1\n",
       "2    1\n",
       "3    0\n",
       "4    1\n",
       "Name: Outcome, dtype: int64"
      ]
     },
     "execution_count": 107,
     "metadata": {},
     "output_type": "execute_result"
    }
   ],
   "source": [
    "y = data.iloc[:, 5]\n",
    "y.head()"
   ]
  },
  {
   "cell_type": "markdown",
   "metadata": {},
   "source": [
    "## Dividiendo la data en 2 => Training Data y Test Data"
   ]
  },
  {
   "cell_type": "code",
   "execution_count": 108,
   "metadata": {},
   "outputs": [],
   "source": [
    "X_train, X_test, y_train, y_test = train_test_split(x,y, test_size=0.3, random_state=0)"
   ]
  },
  {
   "cell_type": "markdown",
   "metadata": {},
   "source": [
    "## Estandarizando los datos para poder usar la metrica de Euclidean"
   ]
  },
  {
   "cell_type": "code",
   "execution_count": 109,
   "metadata": {
    "scrolled": true
   },
   "outputs": [
    {
     "data": {
      "text/plain": [
       "array([[ 0.9595869 ,  0.52088885,  4.72580191,  1.50117325,  0.15729465],\n",
       "       [-0.82221446,  0.49856504,  0.20059779, -0.07505866, -0.71381841],\n",
       "       [ 0.9595869 , -0.12821879,  1.07272804, -1.65129058,  1.03623208],\n",
       "       [ 0.43989484,  0.22037605, -0.95127235, -1.65129058,  0.7206492 ],\n",
       "       [ 0.8535273 ,  0.92100018, -0.88545119, -0.86317462,  1.34920683],\n",
       "       [-0.7055489 , -0.18488692, -0.42470314, -0.07505866, -1.27717296],\n",
       "       [ 0.21716967,  0.54664709,  1.09741097,  1.50117325, -0.61470973],\n",
       "       [ 1.15049419, -0.3325675 , -1.00063821,  0.71305729,  0.42071507],\n",
       "       [ 0.52474252,  0.8591804 , -0.35888199, -1.65129058, -1.4010588 ]])"
      ]
     },
     "execution_count": 109,
     "metadata": {},
     "output_type": "execute_result"
    }
   ],
   "source": [
    "sc_x = StandardScaler()\n",
    "X_train = sc_x.fit_transform(X_train)\n",
    "X_test = sc_x.transform(X_test)\n",
    "\n",
    "X_test"
   ]
  },
  {
   "cell_type": "markdown",
   "metadata": {},
   "source": [
    "## Calculando la cantidad de neighbors para el KNN"
   ]
  },
  {
   "cell_type": "code",
   "execution_count": 110,
   "metadata": {},
   "outputs": [
    {
     "data": {
      "text/plain": [
       "3.0"
      ]
     },
     "execution_count": 110,
     "metadata": {},
     "output_type": "execute_result"
    }
   ],
   "source": [
    "import math\n",
    "math.sqrt(len(y_test))"
   ]
  },
  {
   "cell_type": "markdown",
   "metadata": {},
   "source": [
    "## Definiendo el modelo KNN"
   ]
  },
  {
   "cell_type": "code",
   "execution_count": 111,
   "metadata": {},
   "outputs": [],
   "source": [
    "classifier = KNeighborsClassifier(n_neighbors=3, p=2, metric='euclidean')\n"
   ]
  },
  {
   "cell_type": "markdown",
   "metadata": {},
   "source": [
    "### Ajustando el modelo"
   ]
  },
  {
   "cell_type": "code",
   "execution_count": 112,
   "metadata": {},
   "outputs": [
    {
     "data": {
      "text/plain": [
       "KNeighborsClassifier(metric='euclidean', n_neighbors=3)"
      ]
     },
     "execution_count": 112,
     "metadata": {},
     "output_type": "execute_result"
    }
   ],
   "source": [
    "classifier.fit(X_train, y_train)"
   ]
  },
  {
   "cell_type": "markdown",
   "metadata": {},
   "source": [
    "### Prediciendo con el Test Data"
   ]
  },
  {
   "cell_type": "code",
   "execution_count": 113,
   "metadata": {},
   "outputs": [
    {
     "data": {
      "text/plain": [
       "array([1, 1, 0, 1, 0, 1, 1, 0, 1])"
      ]
     },
     "execution_count": 113,
     "metadata": {},
     "output_type": "execute_result"
    }
   ],
   "source": [
    "y_pred = classifier.predict(X_test)\n",
    "y_pred"
   ]
  },
  {
   "cell_type": "markdown",
   "metadata": {},
   "source": [
    "## Evaluando el modelo"
   ]
  },
  {
   "cell_type": "code",
   "execution_count": 114,
   "metadata": {
    "scrolled": true
   },
   "outputs": [
    {
     "data": {
      "text/plain": [
       "array([[3, 1],\n",
       "       [0, 5]])"
      ]
     },
     "execution_count": 114,
     "metadata": {},
     "output_type": "execute_result"
    }
   ],
   "source": [
    "cm = confusion_matrix(y_test, y_pred)\n",
    "cm"
   ]
  },
  {
   "cell_type": "code",
   "execution_count": 115,
   "metadata": {},
   "outputs": [
    {
     "data": {
      "text/plain": [
       "0.9090909090909091"
      ]
     },
     "execution_count": 115,
     "metadata": {},
     "output_type": "execute_result"
    }
   ],
   "source": [
    "f1_score(y_test, y_pred)"
   ]
  },
  {
   "cell_type": "code",
   "execution_count": 116,
   "metadata": {},
   "outputs": [
    {
     "data": {
      "text/plain": [
       "0.8888888888888888"
      ]
     },
     "execution_count": 116,
     "metadata": {},
     "output_type": "execute_result"
    }
   ],
   "source": [
    "accuracy_score(y_test, y_pred)"
   ]
  }
 ],
 "metadata": {
  "kernelspec": {
   "display_name": "Python 3",
   "language": "python",
   "name": "python3"
  },
  "language_info": {
   "codemirror_mode": {
    "name": "ipython",
    "version": 3
   },
   "file_extension": ".py",
   "mimetype": "text/x-python",
   "name": "python",
   "nbconvert_exporter": "python",
   "pygments_lexer": "ipython3",
   "version": "3.8.3"
  }
 },
 "nbformat": 4,
 "nbformat_minor": 4
}
